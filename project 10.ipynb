{
 "cells": [
  {
   "cell_type": "markdown",
   "metadata": {},
   "source": [
    "# ¡Hola, Yair!  \n",
    "\n",
    "Mi nombre es Carlos Ortiz, soy code reviewer de TripleTen y voy a revisar el proyecto que acabas de desarrollar.\n",
    "\n",
    "Cuando vea un error la primera vez, lo señalaré. Deberás encontrarlo y arreglarlo. La intención es que te prepares para un espacio real de trabajo. En un trabajo, el líder de tu equipo hará lo mismo. Si no puedes solucionar el error, te daré más información en la próxima ocasión. \n",
    "\n",
    "Encontrarás mis comentarios más abajo - **por favor, no los muevas, no los modifiques ni los borres**.\n",
    "\n",
    "¿Cómo lo voy a hacer? Voy a leer detenidamente cada una de las implementaciones que has llevado a cabo para cumplir con lo solicitado. Verás los comentarios de esta forma:\n",
    "\n",
    "<div class=\"alert alert-block alert-success\">\n",
    "<b>Comentario del revisor</b> <a class=\"tocSkip\"></a>\n",
    "    \n",
    "Si todo está perfecto.\n",
    "</div>\n",
    "\n",
    "\n",
    "<div class=\"alert alert-block alert-warning\">\n",
    "<b>Comentario del revisor</b> <a class=\"tocSkip\"></a>\n",
    "    \n",
    "Si tu código está bien pero se puede mejorar o hay algún detalle que le hace falta.\n",
    "</div>\n",
    "\n",
    "\n",
    "<div class=\"alert alert-block alert-danger\">\n",
    "    \n",
    "<b>Comentario del revisor</b> <a class=\"tocSkip\"></a>\n",
    "    \n",
    "    \n",
    "Si de pronto hace falta algo o existe algún problema con tu código o conclusiones.\n",
    "</div>\n",
    "\n",
    "\n",
    "Puedes responderme de esta forma: \n",
    "\n",
    "\n",
    "<div class=\"alert alert-block alert-info\">\n",
    "<b>Respuesta del estudiante</b> <a class=\"tocSkip\"></a>\n",
    "</div>\n",
    "¡Empecemos!"
   ]
  },
  {
   "cell_type": "markdown",
   "metadata": {},
   "source": [
    "# Tomar decisiones de negocio basadas en datos"
   ]
  },
  {
   "cell_type": "markdown",
   "metadata": {},
   "source": [
    "esta sera una simulacion de trabajo en una empresa emergente que vende productos alimenticios. Se debe investigar el comportamiento del usuario para la aplicación de la empresa.\n",
    "Primero, hacer el embudo de ventas. Para descubrir cómo los usuarios y las usuarias llegan a la etapa de compra. ¿Cuántos usuarios o usuarias realmente llegan a esta etapa? ¿Cuántos se atascan en etapas anteriores? ¿Qué etapas en particular?\n",
    "Luego, observar los resultados de un test A/A/B. Al equipo de diseño le gustaría cambiar las fuentes de toda la aplicación, pero la gerencia teme que los usuarios y las usuarias piensen que el nuevo diseño es intimidante. Por ello, deciden tomar una decisión basada en los resultados de un test A/A/B.\n",
    "Los usuarios se dividen en tres grupos: dos grupos de control obtienen las fuentes antiguas y un grupo de prueba obtiene las nuevas."
   ]
  },
  {
   "cell_type": "markdown",
   "metadata": {},
   "source": [
    "## Paso 1. Abrir el archivo de datos y leer la información general"
   ]
  },
  {
   "cell_type": "code",
   "execution_count": 1,
   "metadata": {},
   "outputs": [],
   "source": [
    "#importar librerias\n",
    "import pandas as pd\n",
    "import seaborn as sns\n",
    "import matplotlib.pyplot as plt\n",
    "from scipy.stats import ttest_ind\n",
    "from statsmodels.stats.proportion import proportions_ztest"
   ]
  },
  {
   "cell_type": "code",
   "execution_count": 2,
   "metadata": {},
   "outputs": [
    {
     "name": "stderr",
     "output_type": "stream",
     "text": [
      "/tmp/ipykernel_83/3555145803.py:2: ParserWarning: Falling back to the 'python' engine because the 'c' engine does not support regex separators (separators > 1 char and different from '\\s+' are interpreted as regex); you can avoid this warning by specifying engine='python'.\n",
      "  data=pd.read_csv('/datasets/logs_exp_us.csv',sep=r'\\t',)\n"
     ]
    },
    {
     "name": "stdout",
     "output_type": "stream",
     "text": [
      "<class 'pandas.core.frame.DataFrame'>\n",
      "RangeIndex: 244126 entries, 0 to 244125\n",
      "Data columns (total 4 columns):\n",
      " #   Column          Non-Null Count   Dtype \n",
      "---  ------          --------------   ----- \n",
      " 0   EventName       244126 non-null  object\n",
      " 1   DeviceIDHash    244126 non-null  int64 \n",
      " 2   EventTimestamp  244126 non-null  int64 \n",
      " 3   ExpId           244126 non-null  int64 \n",
      "dtypes: int64(3), object(1)\n",
      "memory usage: 7.5+ MB\n"
     ]
    }
   ],
   "source": [
    "#leer el datafrma\n",
    "data=pd.read_csv('/datasets/logs_exp_us.csv',sep=r'\\t',)\n",
    "data.info()"
   ]
  },
  {
   "cell_type": "markdown",
   "metadata": {},
   "source": [
    "<div class=\"alert alert-block alert-warning\">\n",
    "<b>Comentario del revisor</b> <a class=\"tocSkip\"></a>\n",
    "    \n",
    "Buen trabajo con la importación de datos y de librerías. Puedes prescindir de la `r` antes del tabulador. No es necesaria.\n",
    "</div>"
   ]
  },
  {
   "cell_type": "markdown",
   "metadata": {},
   "source": [
    "por lo visto no hay datos ausentes en el dataframe"
   ]
  },
  {
   "cell_type": "markdown",
   "metadata": {},
   "source": [
    "## Paso 2. Preparar los datos para el análisis"
   ]
  },
  {
   "cell_type": "markdown",
   "metadata": {},
   "source": [
    "### Cambia el nombre de las columnas de manera que sea conveniente para ti"
   ]
  },
  {
   "cell_type": "code",
   "execution_count": 3,
   "metadata": {},
   "outputs": [],
   "source": [
    "data.columns=['name','user_id','time','experiment']"
   ]
  },
  {
   "cell_type": "markdown",
   "metadata": {},
   "source": [
    "### Comprueba si hay tipos de datos y valores ausentes. Corrige los datos si es necesario"
   ]
  },
  {
   "cell_type": "code",
   "execution_count": 4,
   "metadata": {},
   "outputs": [
    {
     "name": "stdout",
     "output_type": "stream",
     "text": [
      "<class 'pandas.core.frame.DataFrame'>\n",
      "RangeIndex: 244126 entries, 0 to 244125\n",
      "Data columns (total 5 columns):\n",
      " #   Column      Non-Null Count   Dtype         \n",
      "---  ------      --------------   -----         \n",
      " 0   name        244126 non-null  object        \n",
      " 1   user_id     244126 non-null  int64         \n",
      " 2   time        244126 non-null  int64         \n",
      " 3   experiment  244126 non-null  category      \n",
      " 4   date_time   244126 non-null  datetime64[ns]\n",
      "dtypes: category(1), datetime64[ns](1), int64(2), object(1)\n",
      "memory usage: 7.7+ MB\n"
     ]
    },
    {
     "data": {
      "text/html": [
       "<div>\n",
       "<style scoped>\n",
       "    .dataframe tbody tr th:only-of-type {\n",
       "        vertical-align: middle;\n",
       "    }\n",
       "\n",
       "    .dataframe tbody tr th {\n",
       "        vertical-align: top;\n",
       "    }\n",
       "\n",
       "    .dataframe thead th {\n",
       "        text-align: right;\n",
       "    }\n",
       "</style>\n",
       "<table border=\"1\" class=\"dataframe\">\n",
       "  <thead>\n",
       "    <tr style=\"text-align: right;\">\n",
       "      <th></th>\n",
       "      <th>name</th>\n",
       "      <th>user_id</th>\n",
       "      <th>time</th>\n",
       "      <th>experiment</th>\n",
       "      <th>date_time</th>\n",
       "    </tr>\n",
       "  </thead>\n",
       "  <tbody>\n",
       "  </tbody>\n",
       "</table>\n",
       "</div>"
      ],
      "text/plain": [
       "Empty DataFrame\n",
       "Columns: [name, user_id, time, experiment, date_time]\n",
       "Index: []"
      ]
     },
     "execution_count": 4,
     "metadata": {},
     "output_type": "execute_result"
    }
   ],
   "source": [
    "#convertir el tiempo a un date time\n",
    "data['date_time']=pd.to_datetime(data['time'],unit='s')\n",
    "#convertir la columna experiment a category\n",
    "data['experiment']=data['experiment'].astype('category')\n",
    "data.info()\n",
    "#buscar duplicados en los experimentos \n",
    "experimentos_por_usuario = data.groupby('user_id')['experiment'].nunique()\n",
    "usuarios_en_dos_o_tres_experimentos = experimentos_por_usuario[experimentos_por_usuario >= 2].index.tolist()\n",
    "dupli_resultado = data[data['user_id'].isin(usuarios_en_dos_o_tres_experimentos)]\n",
    "dupli_resultado"
   ]
  },
  {
   "cell_type": "markdown",
   "metadata": {},
   "source": [
    "<div class=\"alert alert-block alert-success\">\n",
    "<b>Comentario del revisor</b> <a class=\"tocSkip\"></a>\n",
    "    \n",
    "Buen trabajo.\n",
    "</div>"
   ]
  },
  {
   "cell_type": "markdown",
   "metadata": {},
   "source": [
    "### Agrega una columna de fecha y hora y una columna separada para las fechas"
   ]
  },
  {
   "cell_type": "code",
   "execution_count": 5,
   "metadata": {},
   "outputs": [],
   "source": [
    "# Agregar una columna separada para las fechas\n",
    "data['date'] = data['date_time'].dt.date\n",
    "#transformar a datetime\n",
    "data['date']= pd.to_datetime(data['date'])"
   ]
  },
  {
   "cell_type": "markdown",
   "metadata": {},
   "source": [
    "## Paso 3. Estudiar y comprobar los datos"
   ]
  },
  {
   "cell_type": "markdown",
   "metadata": {},
   "source": [
    "### ¿Cuántos eventos hay en los registros?"
   ]
  },
  {
   "cell_type": "code",
   "execution_count": 6,
   "metadata": {},
   "outputs": [
    {
     "data": {
      "text/plain": [
       "5"
      ]
     },
     "execution_count": 6,
     "metadata": {},
     "output_type": "execute_result"
    }
   ],
   "source": [
    "data['name'].nunique()"
   ]
  },
  {
   "cell_type": "markdown",
   "metadata": {},
   "source": [
    "hay 5 eventos unicos"
   ]
  },
  {
   "cell_type": "markdown",
   "metadata": {},
   "source": [
    "### ¿Cuántos usuarios y usuarias hay en los registros?"
   ]
  },
  {
   "cell_type": "code",
   "execution_count": 7,
   "metadata": {},
   "outputs": [
    {
     "data": {
      "text/plain": [
       "7551"
      ]
     },
     "execution_count": 7,
     "metadata": {},
     "output_type": "execute_result"
    }
   ],
   "source": [
    "data['user_id'].nunique()"
   ]
  },
  {
   "cell_type": "markdown",
   "metadata": {},
   "source": [
    "hay 7551 usuarios en los registros"
   ]
  },
  {
   "cell_type": "markdown",
   "metadata": {},
   "source": [
    "### ¿Cuál es el promedio de eventos por usuario?"
   ]
  },
  {
   "cell_type": "code",
   "execution_count": 8,
   "metadata": {},
   "outputs": [
    {
     "name": "stdout",
     "output_type": "stream",
     "text": [
      "32.33028737915508\n"
     ]
    }
   ],
   "source": [
    "print(data.groupby('user_id')['name'].count().mean())"
   ]
  },
  {
   "cell_type": "markdown",
   "metadata": {},
   "source": [
    "hay un promedio de 32 eventos por usuario"
   ]
  },
  {
   "cell_type": "markdown",
   "metadata": {},
   "source": [
    "<div class=\"alert alert-block alert-success\">\n",
    "<b>Comentario del revisor</b> <a class=\"tocSkip\"></a>\n",
    "    \n",
    "Muy buen trabajo en esta primera parte.\n",
    "</div>"
   ]
  },
  {
   "cell_type": "markdown",
   "metadata": {},
   "source": [
    "### ¿Qué periodo de tiempo cubren los datos? Encuentra la fecha máxima y mínima. Traza un histograma por fecha y hora. ¿Puedes tener seguridad de que tienes datos igualmente completos para todo el periodo? Los eventos más antiguos podrían terminar en los registros de algunos usuarios o usuarias por razones técnicas y esto podría sesgar el panorama general. Encuentra el momento en el que los datos comienzan a estar completos e ignora la sección anterior. ¿Qué periodo representan realmente los datos?"
   ]
  },
  {
   "cell_type": "code",
   "execution_count": 9,
   "metadata": {},
   "outputs": [
    {
     "name": "stderr",
     "output_type": "stream",
     "text": [
      "/tmp/ipykernel_83/2238337016.py:1: FutureWarning: Treating datetime data as categorical rather than numeric in `.describe` is deprecated and will be removed in a future version of pandas. Specify `datetime_is_numeric=True` to silence this warning and adopt the future behavior now.\n",
      "  data['date_time'].describe()\n"
     ]
    },
    {
     "data": {
      "text/plain": [
       "count                  244126\n",
       "unique                 176654\n",
       "top       2019-08-04 16:23:19\n",
       "freq                        9\n",
       "first     2019-07-25 04:43:36\n",
       "last      2019-08-07 21:15:17\n",
       "Name: date_time, dtype: object"
      ]
     },
     "execution_count": 9,
     "metadata": {},
     "output_type": "execute_result"
    }
   ],
   "source": [
    "data['date_time'].describe()"
   ]
  },
  {
   "cell_type": "markdown",
   "metadata": {},
   "source": [
    "la fecha maxima es 2019-08-07 y la minima es  2019-07-25"
   ]
  },
  {
   "cell_type": "code",
   "execution_count": 10,
   "metadata": {},
   "outputs": [
    {
     "data": {
      "image/png": "[encoded data removed]",
      "text/plain": [
       "<Figure size 432x288 with 1 Axes>"
      ]
     },
     "metadata": {
      "needs_background": "light"
     },
     "output_type": "display_data"
    }
   ],
   "source": [
    "# Trazar un histograma con Seaborn\n",
    "sns.histplot(data['date'], bins=30, kde=False, color='skyblue')\n",
    "\n",
    "# Añadir etiquetas y título\n",
    "plt.xlabel('Valores')\n",
    "plt.ylabel('Frecuencia')\n",
    "plt.title('Histograma con Seaborn')\n",
    "plt.xticks(rotation=90)\n",
    "# Mostrar el histograma\n",
    "plt.show()"
   ]
  },
  {
   "cell_type": "markdown",
   "metadata": {},
   "source": [
    "a partir de la fecha 2019_08_11 obtendremos resultados mas relevantes para nuestro estudio"
   ]
  },
  {
   "cell_type": "code",
   "execution_count": 11,
   "metadata": {},
   "outputs": [
    {
     "data": {
      "text/html": [
       "<div>\n",
       "<style scoped>\n",
       "    .dataframe tbody tr th:only-of-type {\n",
       "        vertical-align: middle;\n",
       "    }\n",
       "\n",
       "    .dataframe tbody tr th {\n",
       "        vertical-align: top;\n",
       "    }\n",
       "\n",
       "    .dataframe thead th {\n",
       "        text-align: right;\n",
       "    }\n",
       "</style>\n",
       "<table border=\"1\" class=\"dataframe\">\n",
       "  <thead>\n",
       "    <tr style=\"text-align: right;\">\n",
       "      <th></th>\n",
       "      <th>name</th>\n",
       "      <th>user_id</th>\n",
       "      <th>time</th>\n",
       "      <th>experiment</th>\n",
       "      <th>date_time</th>\n",
       "      <th>date</th>\n",
       "    </tr>\n",
       "  </thead>\n",
       "  <tbody>\n",
       "    <tr>\n",
       "      <th>2828</th>\n",
       "      <td>Tutorial</td>\n",
       "      <td>3737462046622621720</td>\n",
       "      <td>1564618048</td>\n",
       "      <td>246</td>\n",
       "      <td>2019-08-01 00:07:28</td>\n",
       "      <td>2019-08-01</td>\n",
       "    </tr>\n",
       "    <tr>\n",
       "      <th>2829</th>\n",
       "      <td>MainScreenAppear</td>\n",
       "      <td>3737462046622621720</td>\n",
       "      <td>1564618080</td>\n",
       "      <td>246</td>\n",
       "      <td>2019-08-01 00:08:00</td>\n",
       "      <td>2019-08-01</td>\n",
       "    </tr>\n",
       "    <tr>\n",
       "      <th>2830</th>\n",
       "      <td>MainScreenAppear</td>\n",
       "      <td>3737462046622621720</td>\n",
       "      <td>1564618135</td>\n",
       "      <td>246</td>\n",
       "      <td>2019-08-01 00:08:55</td>\n",
       "      <td>2019-08-01</td>\n",
       "    </tr>\n",
       "    <tr>\n",
       "      <th>2831</th>\n",
       "      <td>OffersScreenAppear</td>\n",
       "      <td>3737462046622621720</td>\n",
       "      <td>1564618138</td>\n",
       "      <td>246</td>\n",
       "      <td>2019-08-01 00:08:58</td>\n",
       "      <td>2019-08-01</td>\n",
       "    </tr>\n",
       "    <tr>\n",
       "      <th>2832</th>\n",
       "      <td>MainScreenAppear</td>\n",
       "      <td>1433840883824088890</td>\n",
       "      <td>1564618139</td>\n",
       "      <td>247</td>\n",
       "      <td>2019-08-01 00:08:59</td>\n",
       "      <td>2019-08-01</td>\n",
       "    </tr>\n",
       "    <tr>\n",
       "      <th>...</th>\n",
       "      <td>...</td>\n",
       "      <td>...</td>\n",
       "      <td>...</td>\n",
       "      <td>...</td>\n",
       "      <td>...</td>\n",
       "      <td>...</td>\n",
       "    </tr>\n",
       "    <tr>\n",
       "      <th>244121</th>\n",
       "      <td>MainScreenAppear</td>\n",
       "      <td>4599628364049201812</td>\n",
       "      <td>1565212345</td>\n",
       "      <td>247</td>\n",
       "      <td>2019-08-07 21:12:25</td>\n",
       "      <td>2019-08-07</td>\n",
       "    </tr>\n",
       "    <tr>\n",
       "      <th>244122</th>\n",
       "      <td>MainScreenAppear</td>\n",
       "      <td>5849806612437486590</td>\n",
       "      <td>1565212439</td>\n",
       "      <td>246</td>\n",
       "      <td>2019-08-07 21:13:59</td>\n",
       "      <td>2019-08-07</td>\n",
       "    </tr>\n",
       "    <tr>\n",
       "      <th>244123</th>\n",
       "      <td>MainScreenAppear</td>\n",
       "      <td>5746969938801999050</td>\n",
       "      <td>1565212483</td>\n",
       "      <td>246</td>\n",
       "      <td>2019-08-07 21:14:43</td>\n",
       "      <td>2019-08-07</td>\n",
       "    </tr>\n",
       "    <tr>\n",
       "      <th>244124</th>\n",
       "      <td>MainScreenAppear</td>\n",
       "      <td>5746969938801999050</td>\n",
       "      <td>1565212498</td>\n",
       "      <td>246</td>\n",
       "      <td>2019-08-07 21:14:58</td>\n",
       "      <td>2019-08-07</td>\n",
       "    </tr>\n",
       "    <tr>\n",
       "      <th>244125</th>\n",
       "      <td>OffersScreenAppear</td>\n",
       "      <td>5746969938801999050</td>\n",
       "      <td>1565212517</td>\n",
       "      <td>246</td>\n",
       "      <td>2019-08-07 21:15:17</td>\n",
       "      <td>2019-08-07</td>\n",
       "    </tr>\n",
       "  </tbody>\n",
       "</table>\n",
       "<p>241298 rows × 6 columns</p>\n",
       "</div>"
      ],
      "text/plain": [
       "                      name              user_id        time experiment  \\\n",
       "2828              Tutorial  3737462046622621720  1564618048        246   \n",
       "2829      MainScreenAppear  3737462046622621720  1564618080        246   \n",
       "2830      MainScreenAppear  3737462046622621720  1564618135        246   \n",
       "2831    OffersScreenAppear  3737462046622621720  1564618138        246   \n",
       "2832      MainScreenAppear  1433840883824088890  1564618139        247   \n",
       "...                    ...                  ...         ...        ...   \n",
       "244121    MainScreenAppear  4599628364049201812  1565212345        247   \n",
       "244122    MainScreenAppear  5849806612437486590  1565212439        246   \n",
       "244123    MainScreenAppear  5746969938801999050  1565212483        246   \n",
       "244124    MainScreenAppear  5746969938801999050  1565212498        246   \n",
       "244125  OffersScreenAppear  5746969938801999050  1565212517        246   \n",
       "\n",
       "                 date_time       date  \n",
       "2828   2019-08-01 00:07:28 2019-08-01  \n",
       "2829   2019-08-01 00:08:00 2019-08-01  \n",
       "2830   2019-08-01 00:08:55 2019-08-01  \n",
       "2831   2019-08-01 00:08:58 2019-08-01  \n",
       "2832   2019-08-01 00:08:59 2019-08-01  \n",
       "...                    ...        ...  \n",
       "244121 2019-08-07 21:12:25 2019-08-07  \n",
       "244122 2019-08-07 21:13:59 2019-08-07  \n",
       "244123 2019-08-07 21:14:43 2019-08-07  \n",
       "244124 2019-08-07 21:14:58 2019-08-07  \n",
       "244125 2019-08-07 21:15:17 2019-08-07  \n",
       "\n",
       "[241298 rows x 6 columns]"
      ]
     },
     "execution_count": 11,
     "metadata": {},
     "output_type": "execute_result"
    }
   ],
   "source": [
    "df=data[data['date']>='2019-08-01']\n",
    "df"
   ]
  },
  {
   "cell_type": "markdown",
   "metadata": {},
   "source": [
    "### Perdiste muchos eventos y usuarios al excluir los datos más antiguos?"
   ]
  },
  {
   "cell_type": "markdown",
   "metadata": {},
   "source": [
    "segun el histograma no se perdieron una cantidad significativa de datos, y considerando los numeros ahora hay 241298 rows y antes habia 244126 rows por lo que solo se perdio 2828 ros"
   ]
  },
  {
   "cell_type": "markdown",
   "metadata": {},
   "source": [
    "<div class=\"alert alert-block alert-success\">\n",
    "<b>Comentario del revisor</b> <a class=\"tocSkip\"></a>\n",
    "    \n",
    "Bien hecho.\n",
    "</div>"
   ]
  },
  {
   "cell_type": "markdown",
   "metadata": {},
   "source": [
    "### Asegúrate de tener usuarios y usuarias de los tres grupos experimentales."
   ]
  },
  {
   "cell_type": "code",
   "execution_count": 12,
   "metadata": {},
   "outputs": [
    {
     "data": {
      "image/png": "[encoded data removed]",
      "text/plain": [
       "<Figure size 432x288 with 1 Axes>"
      ]
     },
     "metadata": {
      "needs_background": "light"
     },
     "output_type": "display_data"
    }
   ],
   "source": [
    "#contar los usuarios de cada experiment\n",
    "trhee_experiment=df.groupby('experiment')['user_id'].count()\n",
    "plt.bar(trhee_experiment.index,trhee_experiment.values,color='green')\n",
    "\n",
    "# Rotar los nombres de los ejes x\n",
    "plt.xticks(rotation=45)\n",
    "\n",
    "# Añadir etiquetas y título\n",
    "plt.xlabel('experiment')\n",
    "plt.ylabel('Valor')\n",
    "plt.title('Gráfico de usuarios de los tres grupos experimentales')\n",
    "\n",
    "# Mostrar el gráfico de barras\n",
    "plt.show()\n"
   ]
  },
  {
   "cell_type": "markdown",
   "metadata": {},
   "source": [
    "segun el grafico confirmo que aun tengo datos de los tres grupos de experimentos"
   ]
  },
  {
   "cell_type": "markdown",
   "metadata": {},
   "source": [
    "## Paso 4. Estudiar el embudo de eventos"
   ]
  },
  {
   "cell_type": "markdown",
   "metadata": {},
   "source": [
    "### Observa qué eventos hay en los registros y su frecuencia de suceso. Ordénalos por frecuencia."
   ]
  },
  {
   "cell_type": "code",
   "execution_count": 13,
   "metadata": {},
   "outputs": [
    {
     "data": {
      "text/plain": [
       "array(['Tutorial', 'MainScreenAppear', 'OffersScreenAppear',\n",
       "       'CartScreenAppear', 'PaymentScreenSuccessful'], dtype=object)"
      ]
     },
     "execution_count": 13,
     "metadata": {},
     "output_type": "execute_result"
    }
   ],
   "source": [
    "df['name'].unique()\n"
   ]
  },
  {
   "cell_type": "markdown",
   "metadata": {},
   "source": [
    "por lo visto hay  5 eventos empezando por el \n",
    "-Tutorial\n",
    "-MainScreenAppear\n",
    "-OffersScreenAppear\n",
    "-CartScreenAppear\n",
    "-PaymentScreenSuccessful"
   ]
  },
  {
   "cell_type": "code",
   "execution_count": 14,
   "metadata": {},
   "outputs": [
    {
     "data": {
      "text/plain": [
       "name\n",
       "MainScreenAppear           117431\n",
       "OffersScreenAppear          46350\n",
       "CartScreenAppear            42365\n",
       "PaymentScreenSuccessful     34113\n",
       "Tutorial                     1039\n",
       "Name: user_id, dtype: int64"
      ]
     },
     "execution_count": 14,
     "metadata": {},
     "output_type": "execute_result"
    }
   ],
   "source": [
    "frecuency_event=df.groupby('name').count()\n",
    "frecuency_event['user_id'].sort_values(ascending=False)"
   ]
  },
  {
   "cell_type": "markdown",
   "metadata": {},
   "source": [
    "la evento con mayor frecuencia es MainScreenAppear "
   ]
  },
  {
   "cell_type": "markdown",
   "metadata": {},
   "source": [
    "### Encuentra la cantidad de usuarios que realizaron cada una de estas acciones. Ordena los eventos por el número de usuarios. Calcula la proporción de usuarios que realizaron la acción al menos una vez."
   ]
  },
  {
   "cell_type": "code",
   "execution_count": 15,
   "metadata": {},
   "outputs": [
    {
     "data": {
      "text/plain": [
       "name\n",
       "MainScreenAppear           7419\n",
       "OffersScreenAppear         4593\n",
       "CartScreenAppear           3734\n",
       "PaymentScreenSuccessful    3539\n",
       "Tutorial                    840\n",
       "Name: user_id, dtype: int64"
      ]
     },
     "execution_count": 15,
     "metadata": {},
     "output_type": "execute_result"
    }
   ],
   "source": [
    "user_frecuency=df.groupby('name')['user_id'].nunique()\n",
    "user_frecuency.sort_values(ascending=False)\n"
   ]
  },
  {
   "cell_type": "markdown",
   "metadata": {},
   "source": [
    "7419 usuarios realizaron la accion MainScreenAppear"
   ]
  },
  {
   "cell_type": "code",
   "execution_count": 16,
   "metadata": {},
   "outputs": [
    {
     "data": {
      "text/plain": [
       "0.9847358640828245"
      ]
     },
     "execution_count": 16,
     "metadata": {},
     "output_type": "execute_result"
    }
   ],
   "source": [
    "#calcular la proporcion de usuarios que realizaron la accion una vez \n",
    "all_user=df['user_id'].nunique()\n",
    "usuarios_con_accion = df[df['name'] == 'MainScreenAppear']['user_id'].nunique()\n",
    "proporcion = usuarios_con_accion / all_user\n",
    "proporcion"
   ]
  },
  {
   "cell_type": "markdown",
   "metadata": {},
   "source": [
    "al rededor del 98% de los usarios por lo menos realiza una accion"
   ]
  },
  {
   "cell_type": "markdown",
   "metadata": {},
   "source": [
    "### ¿En qué orden crees que ocurrieron las acciones? ¿Todas son parte de una sola secuencia? No es necesario tenerlas en cuenta al calcular el embudo."
   ]
  },
  {
   "cell_type": "markdown",
   "metadata": {},
   "source": [
    "el orden seria : MainScreenAppear -OffersScreenAppear -CartScreenAppear -PaymentScreenSuccessful"
   ]
  },
  {
   "cell_type": "markdown",
   "metadata": {},
   "source": [
    "<div class=\"alert alert-block alert-success\">\n",
    "<b>Comentario del revisor</b> <a class=\"tocSkip\"></a>\n",
    "    \n",
    "Buen trabajo. Lo mejor será prescindir del evento `Tutorial`. \n",
    "</div>"
   ]
  },
  {
   "cell_type": "markdown",
   "metadata": {},
   "source": [
    "### Utiliza el embudo de eventos para encontrar la proporción de usuarios y usuarias que pasan de una etapa a la siguiente. (Por ejemplo, para la secuencia de eventos A → B → C, calcula la proporción de usuarios en la etapa B a la cantidad de usuarios en la etapa A y la proporción de usuarios en la etapa C a la cantidad en la etapa B)."
   ]
  },
  {
   "cell_type": "code",
   "execution_count": 17,
   "metadata": {},
   "outputs": [
    {
     "name": "stdout",
     "output_type": "stream",
     "text": [
      "MainScreenAppear: 7419\n",
      "OffersScreenAppear: 4201\n",
      "CartScreenAppear: 1767\n",
      "PaymentScreenSuccessful: 454\n"
     ]
    }
   ],
   "source": [
    "pivot=df.pivot_table(index='user_id',\n",
    "                    columns='name',\n",
    "                    values='date_time',\n",
    "                    aggfunc='min')\n",
    "step_1 = ~pivot['MainScreenAppear'].isna()\n",
    "step_2 = step_1 & (pivot['OffersScreenAppear'] > pivot['MainScreenAppear'])\n",
    "step_3 = step_2 & (pivot['CartScreenAppear'] > pivot['OffersScreenAppear'])\n",
    "step_4 = step_3 & (pivot['PaymentScreenSuccessful'] > pivot['CartScreenAppear'])\n",
    "\n",
    "n_mainscreenappear = pivot[step_1].shape[0]\n",
    "n_offersscreenappear = pivot[step_2].shape[0]\n",
    "n_cartscreenappear = pivot[step_3].shape[0]\n",
    "n_payment = pivot[step_4].shape[0]\n",
    "print('MainScreenAppear:', n_mainscreenappear)\n",
    "print('OffersScreenAppear:', n_offersscreenappear)\n",
    "print('CartScreenAppear:', n_cartscreenappear)\n",
    "print('PaymentScreenSuccessful:', n_payment) \n"
   ]
  },
  {
   "cell_type": "markdown",
   "metadata": {},
   "source": [
    "### ¿En qué etapa pierdes más usuarios y usuarias?"
   ]
  },
  {
   "cell_type": "code",
   "execution_count": 18,
   "metadata": {},
   "outputs": [
    {
     "name": "stdout",
     "output_type": "stream",
     "text": [
      "0.5662488205957676\n",
      "0.42061413949059745\n",
      "0.2569326542161856\n"
     ]
    }
   ],
   "source": [
    "step1=n_offersscreenappear/n_mainscreenappear\n",
    "step2=n_cartscreenappear/n_offersscreenappear\n",
    "step3=n_payment/n_cartscreenappear\n",
    "print(step1)\n",
    "print(step2)\n",
    "print(step3)"
   ]
  },
  {
   "cell_type": "markdown",
   "metadata": {},
   "source": [
    "se pierden mas usuarios en el ultimo paso cuando los usuarios pasan de la cart screen appear a payment screen successful"
   ]
  },
  {
   "cell_type": "markdown",
   "metadata": {},
   "source": [
    "### ¿Qué porcentaje de usuarios y usuarias hace todo el viaje desde su primer evento hasta el pago?"
   ]
  },
  {
   "cell_type": "code",
   "execution_count": 19,
   "metadata": {},
   "outputs": [
    {
     "data": {
      "text/plain": [
       "0.06119423102844049"
      ]
     },
     "execution_count": 19,
     "metadata": {},
     "output_type": "execute_result"
    }
   ],
   "source": [
    "all_way=n_payment/n_mainscreenappear\n",
    "all_way"
   ]
  },
  {
   "cell_type": "markdown",
   "metadata": {},
   "source": [
    "todo el viaje es hecho por el 6.11 % de los usuarios"
   ]
  },
  {
   "cell_type": "markdown",
   "metadata": {},
   "source": [
    "<div class=\"alert alert-block alert-success\">\n",
    "<b>Comentario del revisor</b> <a class=\"tocSkip\"></a>\n",
    "    \n",
    "Excelente.\n",
    "</div>"
   ]
  },
  {
   "cell_type": "markdown",
   "metadata": {},
   "source": [
    "## Paso 5. Estudiar los resultados del experimento"
   ]
  },
  {
   "cell_type": "markdown",
   "metadata": {},
   "source": [
    "### ¿Cuántos usuarios y usuarias hay en cada grupo?"
   ]
  },
  {
   "cell_type": "code",
   "execution_count": 20,
   "metadata": {},
   "outputs": [
    {
     "name": "stdout",
     "output_type": "stream",
     "text": [
      "usuarios del grupo 246:2484\n",
      "usuarios del grupo 247:2513\n",
      "usuarios del grupo 248:2537\n"
     ]
    }
   ],
   "source": [
    "experiment_246=df[df['experiment']==246]['user_id'].nunique()\n",
    "experiment_247=df[df['experiment']==247]['user_id'].nunique()\n",
    "experiment_248=df[df['experiment']==248]['user_id'].nunique()\n",
    "print(f'usuarios del grupo 246:{experiment_246}')\n",
    "print(f'usuarios del grupo 247:{experiment_247}')\n",
    "print(f'usuarios del grupo 248:{experiment_248}')"
   ]
  },
  {
   "cell_type": "markdown",
   "metadata": {},
   "source": [
    "### Tenemos dos grupos de control en el test A/A, donde comprobamos nuestros mecanismos y cálculos. Observa si hay una diferencia estadísticamente significativa entre las muestras 246 y 247.Selecciona el evento más popular. En cada uno de los grupos de control, encuentra la cantidad de usuarios y usuarias que realizaron esta acción. Encuentra su proporción. Comprueba si la diferencia entre los grupos es estadísticamente significativa. Repite el procedimiento para todos los demás eventos (ahorrarás tiempo si creas una función especial para esta prueba). ¿Puedes confirmar que los grupos se dividieron correctamente?\n"
   ]
  },
  {
   "cell_type": "code",
   "execution_count": 21,
   "metadata": {},
   "outputs": [
    {
     "name": "stderr",
     "output_type": "stream",
     "text": [
      "/tmp/ipykernel_83/2225347815.py:9: SettingWithCopyWarning: \n",
      "A value is trying to be set on a copy of a slice from a DataFrame.\n",
      "Try using .loc[row_indexer,col_indexer] = value instead\n",
      "\n",
      "See the caveats in the documentation: https://pandas.pydata.org/pandas-docs/stable/user_guide/indexing.html#returning-a-view-versus-a-copy\n",
      "  df['conversion'] = df['user_id'].isin(grupo_control_final).astype(int)\n"
     ]
    },
    {
     "name": "stdout",
     "output_type": "stream",
     "text": [
      "Hay una diferencia estadísticamente significativa.\n",
      "No hay evidencia suficiente para afirmar que hay una diferencia estadísticamente significativa.\n",
      "No hay evidencia suficiente para afirmar que hay una diferencia estadísticamente significativa.\n"
     ]
    }
   ],
   "source": [
    "def generar_conversion(df, evento_inicial, evento_final, grupo_control):\n",
    "    # Filtrar el DataFrame para los usuarios que realizaron el evento inicial en el grupo de control\n",
    "    grupo_control_inicial = df[(df['experiment'] == grupo_control) & (df['name'] == evento_inicial)]['user_id']\n",
    "\n",
    "    # Filtrar el DataFrame para los usuarios que realizaron el evento final en el grupo de control\n",
    "    grupo_control_final = df[(df['experiment'] == grupo_control) & (df['name'] == evento_final)]['user_id']\n",
    "\n",
    "    # Crear una columna con 1 para los usuarios que realizaron la conversión y 0 para los que no\n",
    "    df['conversion'] = df['user_id'].isin(grupo_control_final).astype(int)\n",
    "\n",
    "    return df['conversion']\n",
    "\n",
    "# Ejemplo de uso para las conversiones\n",
    "evento_inicial = 'MainScreenAppear'\n",
    "evento_intermedio = 'OffersScreenAppear'\n",
    "evento_intermedio_2 = 'CartScreenAppear'\n",
    "evento_final = 'PaymentScreenSuccessful'\n",
    "\n",
    "grupo_control = 246\n",
    "\n",
    "# Aplicar la función para generar la columna de conversión para el grupo de control 246 ( control)\n",
    "conversion246_1 = generar_conversion(df, evento_inicial, evento_intermedio, grupo_control)\n",
    "conversion246_2 =  generar_conversion(df,evento_intermedio,evento_intermedio_2,grupo_control)\n",
    "conversion246_3=generar_conversion(df,evento_intermedio_2,evento_final,grupo_control)\n",
    "# hacer lo mismo para el grupo de control 247\n",
    "grupo_control247= 247\n",
    "conversion247_1=generar_conversion(df, evento_inicial, evento_intermedio, grupo_control247)\n",
    "conversion247_2=generar_conversion(df, evento_intermedio, evento_intermedio_2, grupo_control247)\n",
    "conversion247_3=generar_conversion(df,evento_intermedio_2,evento_final,grupo_control247)\n",
    "# hacer una funcion para hacer la prueba de diferencia significativa\n",
    "def realizar_prueba_z_e_imprimir_resultado(conversiones_grupo_1, conversiones_grupo_2, alpha=0.01):\n",
    "    # Realizar la prueba de diferencia de proporciones:\n",
    "    z_stat, p_value = proportions_ztest([conversiones_grupo_1.sum(), conversiones_grupo_2.sum()], [len(conversiones_grupo_1), len(conversiones_grupo_2)])\n",
    "\n",
    "\n",
    "    if p_value < alpha:\n",
    "        print(\"Hay una diferencia estadísticamente significativa.\")\n",
    "    else:\n",
    "        print(\"No hay evidencia suficiente para afirmar que hay una diferencia estadísticamente significativa.\")\n",
    "#realizar prueba para la primera conversion\n",
    "realizar_prueba_z_e_imprimir_resultado(conversion246_1, conversion247_1)\n",
    "#realizar prueba para la segunda conversion\n",
    "realizar_prueba_z_e_imprimir_resultado(conversion246_2, conversion247_2)\n",
    "#realizar prueba para la segunda converion\n",
    "realizar_prueba_z_e_imprimir_resultado(conversion246_3, conversion247_3)"
   ]
  },
  {
   "cell_type": "markdown",
   "metadata": {},
   "source": [
    "- H0=las pruebas de conversion de los grupos 246 y 247 son iguales\n",
    "- H1=las pruebas de conversion de los grupos 246 y 247 son significativamente diferentes\n",
    "\n",
    "\n",
    "segun la prueba t test para las dos conversiones de eventos no podemos rechazar la hipetsis nula \"H0=las pruebas de conversion de los grupos 246 y 247 son iguales\" por lo tanto si los grupos se dividieron correctamente"
   ]
  },
  {
   "cell_type": "markdown",
   "metadata": {},
   "source": [
    "### Haz lo mismo para el grupo con fuentes alteradas. Compara los resultados con los de cada uno de los grupos de control para cada evento de forma aislada. Compara los resultados con los resultados combinados de los grupos de control. ¿Qué conclusiones puedes sacar del experimento?"
   ]
  },
  {
   "cell_type": "code",
   "execution_count": 22,
   "metadata": {},
   "outputs": [
    {
     "name": "stdout",
     "output_type": "stream",
     "text": [
      "Hay una diferencia estadísticamente significativa.\n",
      "No hay evidencia suficiente para afirmar que hay una diferencia estadísticamente significativa.\n",
      "No hay evidencia suficiente para afirmar que hay una diferencia estadísticamente significativa.\n"
     ]
    },
    {
     "name": "stderr",
     "output_type": "stream",
     "text": [
      "/tmp/ipykernel_83/2225347815.py:9: SettingWithCopyWarning: \n",
      "A value is trying to be set on a copy of a slice from a DataFrame.\n",
      "Try using .loc[row_indexer,col_indexer] = value instead\n",
      "\n",
      "See the caveats in the documentation: https://pandas.pydata.org/pandas-docs/stable/user_guide/indexing.html#returning-a-view-versus-a-copy\n",
      "  df['conversion'] = df['user_id'].isin(grupo_control_final).astype(int)\n"
     ]
    }
   ],
   "source": [
    "#definir el grupo de tratamiento 248\n",
    "grupo_tratamiento248= 248\n",
    "#sacar las pruebas de conversion\n",
    "conversion248_1=generar_conversion(df, evento_inicial, evento_intermedio, grupo_tratamiento248)\n",
    "conversion248_2=generar_conversion(df, evento_intermedio, evento_intermedio_2, grupo_tratamiento248)\n",
    "conversion248_3=generar_conversion(df, evento_intermedio_2, evento_final, grupo_tratamiento248)\n",
    "#verificar la diferencia significativa con el grupo246\n",
    "#realizar prueba para la primera conversion\n",
    "realizar_prueba_z_e_imprimir_resultado(conversion246_1, conversion248_1)\n",
    "#realizar prueba para la segunda conversion\n",
    "realizar_prueba_z_e_imprimir_resultado(conversion246_2, conversion248_2)\n",
    "#realizar prueba para la segunda converion\n",
    "realizar_prueba_z_e_imprimir_resultado(conversion246_3, conversion248_3)"
   ]
  },
  {
   "cell_type": "markdown",
   "metadata": {},
   "source": [
    "- H0=las pruebas de conversion de los grupos 248 y 246 son iguales.\n",
    "- H1=las pruebas de conversion de los grupos 248 y 246 son significativamente diferentes.\n",
    "\n",
    "\n",
    "no podemos rechazar la hipotesis nula por lo tanto las pruebas de conversion de los grupos 248 y 246 son iguales en dos eventos de conversion"
   ]
  },
  {
   "cell_type": "code",
   "execution_count": 23,
   "metadata": {},
   "outputs": [
    {
     "name": "stdout",
     "output_type": "stream",
     "text": [
      "No hay evidencia suficiente para afirmar que hay una diferencia estadísticamente significativa.\n",
      "No hay evidencia suficiente para afirmar que hay una diferencia estadísticamente significativa.\n",
      "No hay evidencia suficiente para afirmar que hay una diferencia estadísticamente significativa.\n"
     ]
    }
   ],
   "source": [
    "\n",
    "#verificar la diferencia significativa con el grupo247\n",
    "#realizar prueba para la primera conversion\n",
    "realizar_prueba_z_e_imprimir_resultado(conversion247_1, conversion248_1)\n",
    "#realizar prueba para la segunda conversion\n",
    "realizar_prueba_z_e_imprimir_resultado(conversion247_2, conversion248_2)\n",
    "#realizar prueba para la segunda converion\n",
    "realizar_prueba_z_e_imprimir_resultado(conversion247_3, conversion248_3)"
   ]
  },
  {
   "cell_type": "markdown",
   "metadata": {},
   "source": [
    "- H0=las pruebas de conversion de los grupos 248 y 247 son iguales\n",
    "- H1=las pruebas de conversion de los grupos 248 y 247 son significativamente diferentes\n",
    "\n",
    "no podemos rechazar la hipotesis nula por lo tanto las pruebas de conversion de los grupos 248 y 247 son iguales"
   ]
  },
  {
   "cell_type": "code",
   "execution_count": 24,
   "metadata": {},
   "outputs": [
    {
     "name": "stderr",
     "output_type": "stream",
     "text": [
      "/tmp/ipykernel_83/1493283161.py:7: SettingWithCopyWarning: \n",
      "A value is trying to be set on a copy of a slice from a DataFrame.\n",
      "Try using .loc[row_indexer,col_indexer] = value instead\n",
      "\n",
      "See the caveats in the documentation: https://pandas.pydata.org/pandas-docs/stable/user_guide/indexing.html#returning-a-view-versus-a-copy\n",
      "  df['conversion'] = df['user_id'].apply(lambda x: 1 if x in usuarios_conversion_grupo_1 and x in usuarios_conversion_grupo_2 else 0)\n"
     ]
    },
    {
     "name": "stdout",
     "output_type": "stream",
     "text": [
      "No hay evidencia suficiente para afirmar que hay una diferencia estadísticamente significativa.\n",
      "No hay evidencia suficiente para afirmar que hay una diferencia estadísticamente significativa.\n",
      "No hay evidencia suficiente para afirmar que hay una diferencia estadísticamente significativa.\n"
     ]
    },
    {
     "name": "stderr",
     "output_type": "stream",
     "text": [
      "/opt/conda/lib/python3.9/site-packages/statsmodels/stats/weightstats.py:790: RuntimeWarning: invalid value encountered in double_scalars\n",
      "  zstat = value / std\n"
     ]
    }
   ],
   "source": [
    "def generar_conversion_2(df, evento_inicial, evento_final, grupo_control_1, grupo_control_2):\n",
    "    # Obtener los usuarios que realizaron el evento inicial y final en ambos grupos de control\n",
    "    usuarios_conversion_grupo_1 = set(df[(df['experiment'] == grupo_control_1) & (df['name'] == evento_inicial) & (df['user_id'].isin(df[(df['experiment'] == grupo_control_1) & (df['name'] == evento_final)]['user_id']))]['user_id'])\n",
    "    usuarios_conversion_grupo_2 = set(df[(df['experiment'] == grupo_control_2) & (df['name'] == evento_inicial) & (df['user_id'].isin(df[(df['experiment'] == grupo_control_2) & (df['name'] == evento_final)]['user_id']))]['user_id'])\n",
    "\n",
    "    # Crear una columna con 1 para los usuarios que realizaron la conversión en ambos grupos y 0 para los demás\n",
    "    df['conversion'] = df['user_id'].apply(lambda x: 1 if x in usuarios_conversion_grupo_1 and x in usuarios_conversion_grupo_2 else 0)\n",
    "\n",
    "    return df['conversion']\n",
    "#sacar las pruebas de conversion para ambos grupos de control\n",
    "\n",
    "grupo_control_1 = 246\n",
    "grupo_control_2 = 247\n",
    "\n",
    "# Aplicar la función para generar la columna de conversión\n",
    "conversion246_247_1 = generar_conversion_2(df, evento_inicial, evento_intermedio, grupo_control_1, grupo_control_2)\n",
    "conversion246_247_2 = generar_conversion_2(df, evento_intermedio, evento_intermedio_2, grupo_control_1, grupo_control_2)\n",
    "conversion246_247_3 = generar_conversion_2(df, evento_intermedio_2, evento_final, grupo_control_1, grupo_control_2)\n",
    "#verificar la diferencia significativa con el grupo248\n",
    "#realizar prueba para la primera conversion\n",
    "realizar_prueba_z_e_imprimir_resultado(conversion246_247_1, conversion248_1)\n",
    "#realizar prueba para la segunda conversion\n",
    "realizar_prueba_z_e_imprimir_resultado(conversion246_247_2, conversion248_2)\n",
    "#realizar prueba para la segunda converion\n",
    "realizar_prueba_z_e_imprimir_resultado(conversion246_247_3, conversion248_3)"
   ]
  },
  {
   "cell_type": "markdown",
   "metadata": {},
   "source": [
    "por lo tanto segun nuestras pruebas realizadas hasta este momento es apropiado decir que el experiemnto ha sido un fracaso ya que no se puede encontrar una diferencia entre los grupos control con el grupo de tratamiento"
   ]
  },
  {
   "cell_type": "markdown",
   "metadata": {},
   "source": [
    "### ¿Qué nivel de significación has establecido para probar las hipótesis estadísticas mencionadas anteriormente? Calcula cuántas pruebas de hipótesis estadísticas has realizado. Con un nivel de significancia estadística de 0.1, uno de cada 10 resultados podría ser falso. ¿Cuál debería ser el nivel de significación? Si deseas cambiarlo, vuelve a ejecutar los pasos anteriores y comprueba tus conclusiones."
   ]
  },
  {
   "cell_type": "markdown",
   "metadata": {},
   "source": [
    "Hasta ahora, en los ejemplos anteriores, hemos utilizado un nivel de significancia estadística (alfa) de 0.1, que es comúnmente utilizado en la práctica. Sin embargo, la elección del nivel de significancia depende de la naturaleza del problema y de cuánto se acepta errores tipo I (falsos positivos) y tipo II (falsos negativos). He realizado 12 pruebas"
   ]
  },
  {
   "cell_type": "markdown",
   "metadata": {},
   "source": [
    "+"
   ]
  },
  {
   "cell_type": "markdown",
   "metadata": {},
   "source": [
    "<div class=\"alert alert-block alert-danger\">\n",
    "    \n",
    "# Comentarios generales\n",
    "<b>Comentario del revisor</b> <a class=\"tocSkip\"></a>\n",
    "    \n",
    "Buen trabajo, Yair. Nos quedan unos elementos por corregir antes de poder aprobar tu proyecto. He dejado comentarios a lo largo del documento para ello.\n",
    "</div>"
   ]
  },
  {
   "cell_type": "markdown",
   "metadata": {},
   "source": [
    "<div class=\"alert alert-block alert-success\">\n",
    "    \n",
    "# Comentarios generales\n",
    "<b>Comentario del revisor</b> <a class=\"tocSkip\"></a>\n",
    "    \n",
    "Todo corregido. Has aprobado un nuevo proyecto.\n",
    "</div>"
   ]
  }
 ],
 "metadata": {
  "kernelspec": {
   "display_name": "Python 3 (ipykernel)",
   "language": "python",
   "name": "python3"
  },
  "language_info": {
   "codemirror_mode": {
    "name": "ipython",
    "version": 3
   },
   "file_extension": ".py",
   "mimetype": "text/x-python",
   "name": "python",
   "nbconvert_exporter": "python",
   "pygments_lexer": "ipython3",
   "version": "3.9.5"
  },
  "toc": {
   "base_numbering": 1,
   "nav_menu": {},
   "number_sections": true,
   "sideBar": true,
   "skip_h1_title": true,
   "title_cell": "Table of Contents",
   "title_sidebar": "Contents",
   "toc_cell": false,
   "toc_position": {},
   "toc_section_display": true,
   "toc_window_display": false
  }
 },
 "nbformat": 4,
 "nbformat_minor": 2
}
